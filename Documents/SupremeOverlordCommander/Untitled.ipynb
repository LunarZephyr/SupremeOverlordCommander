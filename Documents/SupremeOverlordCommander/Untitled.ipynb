{
 "cells": [
  {
   "cell_type": "code",
   "execution_count": 1,
   "metadata": {},
   "outputs": [],
   "source": [
    "import psycopg2 as psql\n",
    "import pandas as pd\n",
    "from datetime import datetime, date\n",
    "from defs import *\n",
    "import sqlite3 as sql\n",
    "import random"
   ]
  },
  {
   "cell_type": "code",
   "execution_count": 6,
   "metadata": {},
   "outputs": [
    {
     "data": {
      "text/plain": [
       "array([8790821., 5388928., 3133573., 2091497., 6535833., 5797367.,\n",
       "       3998318., 7260443., 2595103., 3800751., 5687585., 3229296.,\n",
       "       2356158., 4865863., 9441225., 3644900., 4427525., 6157715.,\n",
       "       3831009., 2335883., 5216906., 3065521., 4213258., 2508843.,\n",
       "       4191963., 4788011., 5281379., 8685585., 5590383., 9250733.,\n",
       "       3750022., 9919483., 2471060., 5919800., 4984126., 7171594.,\n",
       "       7618873., 7638027., 6960908., 5510018.])"
      ]
     },
     "execution_count": 6,
     "metadata": {},
     "output_type": "execute_result"
    }
   ],
   "source": [
    "level = np.zeros(40)\n",
    "CP = np.zeros(40)\n",
    "for i in range(len(level)):\n",
    "    level[i] = random.randint(90, 170)\n",
    "    CP[i] = random.randint(2000000, 10000000)\n",
    "CP"
   ]
  },
  {
   "cell_type": "code",
   "execution_count": 2,
   "metadata": {},
   "outputs": [],
   "source": [
    "conn = psql.connect(\"dbname = Ulala user = admin password = Hui-ling3\")\n",
    "c = conn.cursor()"
   ]
  },
  {
   "cell_type": "code",
   "execution_count": 4,
   "metadata": {},
   "outputs": [],
   "source": [
    "c.execute('''INSERT INTO Servers (Server_ID, Server_Name) VALUES (%s, %s)''', (733452415726125108, \"PlanetaryPower\"))"
   ]
  },
  {
   "cell_type": "code",
   "execution_count": 18,
   "metadata": {},
   "outputs": [],
   "source": [
    "conn.rollback()"
   ]
  },
  {
   "cell_type": "code",
   "execution_count": 3,
   "metadata": {},
   "outputs": [
    {
     "data": {
      "text/plain": [
       "<function connection.commit>"
      ]
     },
     "execution_count": 3,
     "metadata": {},
     "output_type": "execute_result"
    }
   ],
   "source": [
    "c.execute('''ALTER TABLE Servers ALTER COLUMN Server_ID TYPE BIGINT''')\n",
    "conn.commit"
   ]
  },
  {
   "cell_type": "code",
   "execution_count": 24,
   "metadata": {},
   "outputs": [
    {
     "data": {
      "text/plain": [
       "'Members.Columns'"
      ]
     },
     "execution_count": 24,
     "metadata": {},
     "output_type": "execute_result"
    }
   ],
   "source": [
    "'''Members.Columns'''"
   ]
  },
  {
   "cell_type": "code",
   "execution_count": 30,
   "metadata": {},
   "outputs": [],
   "source": [
    "abv = 'ss'"
   ]
  },
  {
   "cell_type": "code",
   "execution_count": 33,
   "metadata": {},
   "outputs": [
    {
     "data": {
      "text/plain": [
       "'SolarSurfers'"
      ]
     },
     "execution_count": 33,
     "metadata": {},
     "output_type": "execute_result"
    }
   ],
   "source": [
    "c.execute('''SELECT clan_name FROM clans WHERE clan_abbreviation ~* (%s) ''', (abv, ))\n",
    "c.fetchall()[0][0]"
   ]
  }
 ],
 "metadata": {
  "kernelspec": {
   "display_name": "Python 3",
   "language": "python",
   "name": "python3"
  },
  "language_info": {
   "codemirror_mode": {
    "name": "ipython",
    "version": 3
   },
   "file_extension": ".py",
   "mimetype": "text/x-python",
   "name": "python",
   "nbconvert_exporter": "python",
   "pygments_lexer": "ipython3",
   "version": "3.7.6"
  }
 },
 "nbformat": 4,
 "nbformat_minor": 4
}
